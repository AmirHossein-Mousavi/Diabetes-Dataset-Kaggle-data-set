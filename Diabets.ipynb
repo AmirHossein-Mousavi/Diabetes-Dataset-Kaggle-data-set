{
 "cells": [
  {
   "cell_type": "markdown",
   "id": "b33220ad-688c-4dfa-a803-a055ff8cc48a",
   "metadata": {},
   "source": [
    "# Step 1: \n",
    "### DATA preparation"
   ]
  },
  {
   "cell_type": "code",
   "execution_count": 12,
   "id": "b5a9915a-ca5c-40ab-89d2-2c923515657c",
   "metadata": {},
   "outputs": [],
   "source": [
    "#insert data\n",
    "\n",
    "import pandas as pd\n",
    "import numpy as np\n",
    "\n",
    "Diabet = pd.read_csv(\"C:/Users/Administrator/git/Diabets/Diabetes Dataset/diabetes.csv\")"
   ]
  },
  {
   "cell_type": "code",
   "execution_count": 18,
   "id": "4b3ccc39-b352-4c9e-b43e-fcbcc0714f2f",
   "metadata": {},
   "outputs": [
    {
     "data": {
      "text/plain": [
       "Index(['Pregnancies', 'Glucose', 'BloodPressure', 'SkinThickness', 'Insulin',\n",
       "       'BMI', 'DiabetesPedigreeFunction', 'Age', 'Outcome'],\n",
       "      dtype='object')"
      ]
     },
     "execution_count": 18,
     "metadata": {},
     "output_type": "execute_result"
    }
   ],
   "source": [
    "Diabet.columns"
   ]
  },
  {
   "cell_type": "code",
   "execution_count": 22,
   "id": "fc349029-aca7-48d2-ad5b-db1ee89cf465",
   "metadata": {},
   "outputs": [
    {
     "data": {
      "text/plain": [
       "Pregnancies                 0\n",
       "Glucose                     0\n",
       "BloodPressure               0\n",
       "SkinThickness               0\n",
       "Insulin                     0\n",
       "BMI                         0\n",
       "DiabetesPedigreeFunction    0\n",
       "Age                         0\n",
       "Outcome                     0\n",
       "dtype: int64"
      ]
     },
     "execution_count": 22,
     "metadata": {},
     "output_type": "execute_result"
    }
   ],
   "source": [
    "#Missing Datas\n",
    "\n",
    "Diabet.isnull().sum()"
   ]
  },
  {
   "cell_type": "code",
   "execution_count": 24,
   "id": "df44e7d6-e1d2-42f1-b00f-cbf4aefd0c48",
   "metadata": {},
   "outputs": [],
   "source": [
    "#no missing data so no handling"
   ]
  },
  {
   "cell_type": "code",
   "execution_count": null,
   "id": "95f2084d-cda1-4d1f-a55f-bc99abe543cb",
   "metadata": {},
   "outputs": [],
   "source": []
  }
 ],
 "metadata": {
  "kernelspec": {
   "display_name": "Python 3 (ipykernel)",
   "language": "python",
   "name": "python3"
  },
  "language_info": {
   "codemirror_mode": {
    "name": "ipython",
    "version": 3
   },
   "file_extension": ".py",
   "mimetype": "text/x-python",
   "name": "python",
   "nbconvert_exporter": "python",
   "pygments_lexer": "ipython3",
   "version": "3.12.7"
  }
 },
 "nbformat": 4,
 "nbformat_minor": 5
}
